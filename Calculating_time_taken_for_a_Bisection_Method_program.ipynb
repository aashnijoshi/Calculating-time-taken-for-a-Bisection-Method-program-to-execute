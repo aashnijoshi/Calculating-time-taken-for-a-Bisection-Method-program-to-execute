{
  "nbformat": 4,
  "nbformat_minor": 0,
  "metadata": {
    "colab": {
      "name": "Calculating time taken for a Bisection Method program.ipynb",
      "provenance": [],
      "authorship_tag": "ABX9TyOCoNIB5CdUuZZVoVlyVMq4",
      "include_colab_link": true
    },
    "kernelspec": {
      "name": "python3",
      "display_name": "Python 3"
    },
    "language_info": {
      "name": "python"
    }
  },
  "cells": [
    {
      "cell_type": "markdown",
      "metadata": {
        "id": "view-in-github",
        "colab_type": "text"
      },
      "source": [
        "<a href=\"https://colab.research.google.com/github/aashnijoshi/Calculating-time-taken-for-a-Bisection-Method-program-to-execute/blob/main/Calculating_time_taken_for_a_Bisection_Method_program.ipynb\" target=\"_parent\"><img src=\"https://colab.research.google.com/assets/colab-badge.svg\" alt=\"Open In Colab\"/></a>"
      ]
    },
    {
      "cell_type": "code",
      "execution_count": null,
      "metadata": {
        "id": "WOFxySGw0qe9"
      },
      "outputs": [],
      "source": [
        "#Calculating time taken for a Bisection Method program \n",
        "\n",
        "from matplotlib import pyplot as plt\n",
        "import numpy as np\n",
        "import math\n",
        "\n",
        "import time \n",
        "\n",
        "#Inputting\n",
        "print(\"Enter function \")\n",
        "funcc=input()\n",
        "\n",
        "#Recording Time at the start of the program\n",
        "t1=time.time()\n",
        "\n",
        "def f(x):\n",
        "    return eval(funcc)\n",
        "\n",
        "def bisection(a,b,tol):\n",
        "    global c\n",
        "    x1 = a\n",
        "    x2 = b\n",
        "    i=0\n",
        "    \n",
        "    while (np.abs(f(x1)-f(x2))>=tol):\n",
        "      i+=1\n",
        "\n",
        "      #Setting a limit for the number of times the program runs\n",
        "      if i==1000:\n",
        "        print(\"roots not found\")\n",
        "        break\n",
        "\n",
        "      c=(x1+x2)/2.0   #Making 'c' the average of two x values\n",
        "\n",
        "      prod=f(x1)*f(c)\n",
        "\n",
        "      if prod > tol:\n",
        "         x1=c\n",
        "      else:\n",
        "         if prod < tol:\n",
        "           x2=c  \n",
        "    return c   \n",
        "    \n",
        "c=bisection(-100,100,0.00000000000001)  #Calling the function\n",
        "\n",
        "print(\"The Root of the equation is \",c)  \n",
        "t2=time.time()\n",
        "print(\"Time taken for execution is \",t2-t1)"
      ]
    }
  ]
}